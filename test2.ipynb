{
 "cells": [
  {
   "cell_type": "code",
   "execution_count": null,
   "metadata": {},
   "outputs": [],
   "source": [
    "from datetime import datetime\n",
    "import xarray as xr\n",
    "import netCDF4\n",
    "import matplotlib.pyplot as plt\n",
    "%matplotlib inline\n",
    "import cartopy.crs as ccrs\n",
    "# import earthpy.plot as ep\n",
    "import metpy  \n",
    "import numpy as np\n",
    "import s3fs\n",
    "import glob"
   ]
  },
  {
   "cell_type": "code",
   "execution_count": null,
   "metadata": {},
   "outputs": [],
   "source": [
    "year, month, day = 2018, 2, 7\n",
    "doy = datetime(year, month, day).timetuple().tm_yday"
   ]
  },
  {
   "cell_type": "code",
   "execution_count": null,
   "metadata": {},
   "outputs": [],
   "source": [
    "hour, minute = 12, 0"
   ]
  },
  {
   "cell_type": "code",
   "execution_count": null,
   "metadata": {},
   "outputs": [],
   "source": [
    "# Use the anonymous credentials to access public data\n",
    "fs = s3fs.S3FileSystem(anon=True)\n",
    "\n",
    "# List contents of GOES-16 bucket.\n",
    "files = fs.ls(f's3://noaa-goes16/ABI-L1b-RadF/{year}/{doy:03d}/{hour:02d}/')\n",
    "\n",
    "files2down = []\n",
    "for file in files:\n",
    "    for c in [\"C01\", \"C02\", \"C03\"]:\n",
    "        if c in str(file):\n",
    "            files2down.append(file)\n",
    "            print(file)\n",
    "            fs.get(file, file.split('/')[-1])"
   ]
  },
  {
   "cell_type": "code",
   "execution_count": null,
   "metadata": {},
   "outputs": [],
   "source": [
    "# Calculate latitude and longitude from GOES ABI fixed grid projection data\n",
    "# GOES ABI fixed grid projection is a map projection relative to the GOES satellite\n",
    "# Units: latitude in °N (°S < 0), longitude in °E (°W < 0)\n",
    "# See GOES-R Product User Guide (PUG) Volume 5 (L2 products) Section 4.2.8 for details & example of calculations\n",
    "# \"file_id\" is an ABI L1b or L2 .nc file opened using the netCDF4 library\n",
    "\n",
    "def calculate_degrees(file_id):\n",
    "    \n",
    "    # Read in GOES ABI fixed grid projection variables and constants\n",
    "    x_coordinate_1d = file_id.variables['x'][:]  # E/W scanning angle in radians\n",
    "    y_coordinate_1d = file_id.variables['y'][:]  # N/S elevation angle in radians\n",
    "    projection_info = file_id.variables['goes_imager_projection']\n",
    "    lon_origin = projection_info.longitude_of_projection_origin\n",
    "    H = projection_info.perspective_point_height+projection_info.semi_major_axis\n",
    "    r_eq = projection_info.semi_major_axis\n",
    "    r_pol = projection_info.semi_minor_axis\n",
    "    \n",
    "    # Create 2D coordinate matrices from 1D coordinate vectors\n",
    "    x_coordinate_2d, y_coordinate_2d = np.meshgrid(x_coordinate_1d, y_coordinate_1d)\n",
    "    \n",
    "    # Equations to calculate latitude and longitude\n",
    "    lambda_0 = (lon_origin*np.pi)/180.0  \n",
    "    a_var = np.power(np.sin(x_coordinate_2d),2.0) + (np.power(np.cos(x_coordinate_2d),2.0)*(np.power(np.cos(y_coordinate_2d),2.0)+(((r_eq*r_eq)/(r_pol*r_pol))*np.power(np.sin(y_coordinate_2d),2.0))))\n",
    "    b_var = -2.0*H*np.cos(x_coordinate_2d)*np.cos(y_coordinate_2d)\n",
    "    c_var = (H**2.0)-(r_eq**2.0)\n",
    "    r_s = (-1.0*b_var - np.sqrt((b_var**2)-(4.0*a_var*c_var)))/(2.0*a_var)\n",
    "    s_x = r_s*np.cos(x_coordinate_2d)*np.cos(y_coordinate_2d)\n",
    "    s_y = - r_s*np.sin(x_coordinate_2d)\n",
    "    s_z = r_s*np.cos(x_coordinate_2d)*np.sin(y_coordinate_2d)\n",
    "    \n",
    "    # Ignore numpy errors for sqrt of negative number; occurs for GOES-16 ABI CONUS sector data\n",
    "    np.seterr(all='ignore')\n",
    "    \n",
    "    abi_lat = (180.0/np.pi)*(np.arctan(((r_eq*r_eq)/(r_pol*r_pol))*((s_z/np.sqrt(((H-s_x)*(H-s_x))+(s_y*s_y))))))\n",
    "    abi_lon = (lambda_0 - np.arctan(s_y/(H-s_x)))*(180.0/np.pi)\n",
    "    \n",
    "    return abi_lat, abi_lon"
   ]
  },
  {
   "cell_type": "code",
   "execution_count": null,
   "metadata": {},
   "outputs": [],
   "source": [
    "c01 = xr.open_dataset(glob.glob(f'OR*-M3C01_G16_s{year:04d}{doy:03d}{hour:02d}{minute:02d}*.nc')[0])\n",
    "c02 = xr.open_dataset(glob.glob(f'OR*-M3C02_G16_s{year:04d}{doy:03d}{hour:02d}{minute:02d}*.nc')[0])\n",
    "c03 = xr.open_dataset(glob.glob(f'OR*-M3C03_G16_s{year:04d}{doy:03d}{hour:02d}{minute:02d}*.nc')[0])"
   ]
  },
  {
   "cell_type": "code",
   "execution_count": null,
   "metadata": {},
   "outputs": [],
   "source": [
    "nc_c01 = netCDF4.Dataset(glob.glob(f'OR*-M3C01_G16_s{year:04d}{doy:03d}{hour:02d}{minute:02d}*.nc')[0])\n",
    "abi_lat, abi_lon = calculate_degrees(nc_c01)"
   ]
  },
  {
   "cell_type": "code",
   "execution_count": null,
   "metadata": {},
   "outputs": [],
   "source": [
    "print(abi_lon[2000, ::100])"
   ]
  },
  {
   "cell_type": "code",
   "execution_count": null,
   "metadata": {},
   "outputs": [],
   "source": []
  },
  {
   "cell_type": "code",
   "execution_count": null,
   "metadata": {},
   "outputs": [],
   "source": [
    "extent = [-34.0, 33.0, -22.0, 45.0]"
   ]
  },
  {
   "cell_type": "code",
   "execution_count": null,
   "metadata": {},
   "outputs": [],
   "source": [
    "abi_lat_min = abi_lat.min(axis=1)\n",
    "abi_lat_max = abi_lat.max(axis=1)\n",
    "print(abi_lat_max[1128])\n",
    "print(abi_lat_min[1128])\n",
    "print(abi_lat_min[2537])\n",
    "print(abi_lat_max[2537])\n"
   ]
  },
  {
   "cell_type": "code",
   "execution_count": null,
   "metadata": {},
   "outputs": [],
   "source": [
    "print(abi_lon[1128,8000])"
   ]
  },
  {
   "cell_type": "code",
   "execution_count": null,
   "metadata": {},
   "outputs": [],
   "source": [
    "abi_lon_min = abi_lon.min(axis=0)\n",
    "abi_lon_max = abi_lon.max(axis=0)\n",
    "print(abi_lon_min[8000])\n",
    "print(abi_lon_max[8000])\n",
    "print(abi_lon_min[-1])\n",
    "print(abi_lon_max[-1])"
   ]
  },
  {
   "cell_type": "code",
   "execution_count": null,
   "metadata": {},
   "outputs": [],
   "source": [
    "# Calculate the lat lon pairs indexes for the desired extent\n",
    "idx_pair_1 = abs(abi_lat-extent[1])+abs(abi_lon-extent[0])\n",
    "max_lat_idx,min_lon_idx = np.unravel_index(idx_pair_1.argmin(),idx_pair_1.shape)\n",
    "idx_pair_2 = abs(abi_lat-extent[3])+abs(abi_lon-extent[2])\n",
    "min_lat_idx,max_lon_idx = np.unravel_index(idx_pair_2.argmin(),idx_pair_2.shape)"
   ]
  },
  {
   "cell_type": "code",
   "execution_count": null,
   "metadata": {},
   "outputs": [],
   "source": [
    "print(min_lat_idx, max_lat_idx, min_lon_idx, max_lon_idx)"
   ]
  },
  {
   "cell_type": "code",
   "execution_count": null,
   "metadata": {},
   "outputs": [],
   "source": [
    "# print(abi_lon[min_lat_idx, min_lon_idx])\n",
    "print(abi_lon[min_lat_idx, max_lon_idx])\n",
    "print(abi_lon[max_lat_idx, min_lon_idx])\n",
    "# print(abi_lon[max_lat_idx, max_lon_idx])\n",
    "# print(abi_lat[min_lat_idx, min_lon_idx])\n",
    "print(abi_lat[min_lat_idx, max_lon_idx])\n",
    "print(abi_lat[max_lat_idx, min_lon_idx])\n",
    "# print(abi_lat[max_lat_idx, max_lon_idx])"
   ]
  },
  {
   "cell_type": "code",
   "execution_count": null,
   "metadata": {},
   "outputs": [],
   "source": [
    "ymin = extent[0].min()\n",
    "ymax = extent[0].max()\n",
    "xmin = extent[1].min()\n",
    "xmax = extent[1].max()"
   ]
  },
  {
   "cell_type": "code",
   "execution_count": null,
   "metadata": {},
   "outputs": [],
   "source": [
    "print(abi_lat[ymin, xmin],\n",
    "abi_lat[ymin, xmax],\n",
    "abi_lat[ymax, xmin],\n",
    "abi_lat[ymax, xmax])"
   ]
  },
  {
   "cell_type": "code",
   "execution_count": null,
   "metadata": {},
   "outputs": [],
   "source": [
    "print(abi_lon[ymin, xmin],\n",
    "abi_lon[ymin, xmax],\n",
    "abi_lon[ymax, xmin],\n",
    "abi_lon[ymax, xmax])"
   ]
  },
  {
   "cell_type": "code",
   "execution_count": null,
   "metadata": {},
   "outputs": [],
   "source": [
    "R = c02['Rad'].data\n",
    "G = c03['Rad'].data\n",
    "B = c01['Rad'].data"
   ]
  },
  {
   "cell_type": "code",
   "execution_count": null,
   "metadata": {},
   "outputs": [],
   "source": [
    "print(B.shape)"
   ]
  },
  {
   "cell_type": "code",
   "execution_count": null,
   "metadata": {},
   "outputs": [],
   "source": [
    "dat = c01.metpy.parse_cf('Rad')\n",
    "goes = dat.metpy.cartopy_crs\n",
    "x = dat.x\n",
    "y = dat.y"
   ]
  },
  {
   "cell_type": "code",
   "execution_count": null,
   "metadata": {},
   "outputs": [],
   "source": [
    "fig = plt.figure(figsize=(15, 12))\n",
    "\n",
    "pc = ccrs.PlateCarree()\n",
    "\n",
    "ax = fig.add_subplot(1, 1, 1, projection=pc)\n",
    "ax.set_extent([-33, -23, 34, 44], crs=pc)\n",
    "\n",
    "# Add the RGB image to the figure. The data is in the same projection as the\n",
    "# axis we just created.\n",
    "ax.imshow(RGB, origin='upper', extent=(x.min(), x.max(), y.min(), y.max()), transform=goes)\n",
    "\n",
    "# Add Coastlines and States\n",
    "# ax.coastlines(resolution='50m', color='green', linewidth=0.25)\n",
    "# ax.add_feature(ccrs.cartopy.feature.STATES, linewidth=0.25, color='green')\n",
    "\n",
    "plt.title('GOES-16 True Color', loc='left', fontweight='bold', fontsize=15)\n",
    "\n",
    "plt.show()"
   ]
  },
  {
   "cell_type": "code",
   "execution_count": null,
   "metadata": {},
   "outputs": [],
   "source": [
    "fig = plt.figure(figsize=(15, 12))\n",
    "\n",
    "# Create axis with Geostationary projection\n",
    "ax = fig.add_subplot(1, 1, 1, projection=goes)\n",
    "\n",
    "# Add the RGB image to the figure. The data is in the same projection as the\n",
    "# axis we just created.\n",
    "ax.imshow(B[ymin:ymax,xmin:xmax], origin='upper', cmap='Greys_r',\n",
    "          extent=(y[ymin], y[ymax], x[xmin], x[xmax]), transform=goes)\n",
    "\n",
    "# Add Coastlines and States\n",
    "ax.coastlines(resolution='50m', color='black', linewidth=0.25)\n",
    "ax.add_feature(ccrs.cartopy.feature.STATES, linewidth=0.25)\n",
    "\n",
    "plt.title('GOES-16 True Color', loc='left', fontweight='bold', fontsize=15)\n",
    "\n",
    "plt.show()"
   ]
  },
  {
   "cell_type": "code",
   "execution_count": null,
   "metadata": {},
   "outputs": [],
   "source": [
    "# Plot the Blue Band radiances to check if data loaded correctly\n",
    "fig = plt.figure(figsize=(6,6),dpi=200)\n",
    "im = plt.imshow(B[ymin:ymax,xmin:xmax], cmap='Greys_r')\n",
    "cb = fig.colorbar(im, orientation='horizontal')\n",
    "cb.set_ticks([1, 100, 200, 300, 400, 500, 600])\n",
    "cb.set_label('Radiance (W m-2 sr-1 um-1)')\n",
    "plt.show()"
   ]
  },
  {
   "cell_type": "code",
   "execution_count": null,
   "metadata": {},
   "outputs": [],
   "source": [
    "# Print the kappa coefficients for each band\n",
    "kappa_B = c01['kappa0'].data\n",
    "kappa_R = c02['kappa0'].data\n",
    "kappa_G = c03['kappa0'].data\n",
    "\n",
    "print('Band 1 kappa coefficient = ', kappa_B)\n",
    "print('Band 2 kappa coefficient = ', kappa_R)\n",
    "print('Band 3 kappa coefficient = ', kappa_G)"
   ]
  },
  {
   "cell_type": "code",
   "execution_count": null,
   "metadata": {},
   "outputs": [],
   "source": [
    "#To convert radiance to reflectance, use formula:\n",
    "#reflectance (ρf(υ)) = kappa factor(κ) * radiance (L(ν))\n",
    "#Source: GOES-R Series Product Definition and User Guide (PUG) Volume 3, Revision 2.2, pages 27-28\n",
    "R_ref = kappa_R * R\n",
    "G_ref = kappa_G * G  \n",
    "B_ref = kappa_B * B "
   ]
  },
  {
   "cell_type": "code",
   "execution_count": null,
   "metadata": {},
   "outputs": [],
   "source": [
    "# Apply range limits for each channel. Reflectance values must be between 0 and 1.\n",
    "R_ref = np.clip(R_ref, 0, 1)\n",
    "G_ref = np.clip(G_ref, 0, 1)\n",
    "B_ref = np.clip(B_ref, 0, 1)"
   ]
  },
  {
   "cell_type": "code",
   "execution_count": null,
   "metadata": {},
   "outputs": [],
   "source": [
    "# Apply a gamma correction to the image to correct ABI detector brightness\n",
    "gamma = 2.2\n",
    "R = np.power(R_ref, 1/gamma)\n",
    "G = np.power(G_ref, 1/gamma)\n",
    "B = np.power(B_ref, 1/gamma)"
   ]
  },
  {
   "cell_type": "code",
   "execution_count": null,
   "metadata": {},
   "outputs": [],
   "source": [
    "print(R.shape)\n",
    "print(G.shape)\n",
    "print(B.shape)"
   ]
  },
  {
   "cell_type": "code",
   "execution_count": null,
   "metadata": {},
   "outputs": [],
   "source": [
    "# Define the rebin function that will be used to resample the band resolution\n",
    "# Rebin function from https://stackoverflow.com/questions/8090229/resize-with-averaging-or-rebin-a-numpy-2d-array\n",
    "def rebin(a, shape):\n",
    "    sh = shape[0],a.shape[0]//shape[0],shape[1],a.shape[1]//shape[1]\n",
    "    return a.reshape(sh).mean(-1).mean(1)"
   ]
  },
  {
   "cell_type": "code",
   "execution_count": null,
   "metadata": {},
   "outputs": [],
   "source": [
    "#Resample the Red Band resolution\n",
    "R_rescaled = rebin(R, G.shape) "
   ]
  },
  {
   "cell_type": "code",
   "execution_count": null,
   "metadata": {},
   "outputs": [],
   "source": [
    "print(R_rescaled.shape)\n",
    "print(G.shape)\n",
    "print(B.shape)"
   ]
  },
  {
   "cell_type": "code",
   "execution_count": null,
   "metadata": {},
   "outputs": [],
   "source": [
    "# GOES-R Series satellites do not have a channel in the visible green range. Band 3 is a NIR channel typically used to monitor vegetation.\n",
    "# Calculate the \"True\" Green Band to serve as a green proxy for the RGB True Color image, using a fractional combination.\n",
    "# Source: \"Generation of GOES‐16 True Color Imagery without a Green Band\" - https://agupubs.onlinelibrary.wiley.com/doi/full/10.1029/2018EA000379\n",
    "G_true = 0.45 * R_rescaled + 0.1 * G + 0.45 * B\n",
    "G_true = np.clip(G_true, 0, 1)  # Apply band limits again, just in case."
   ]
  },
  {
   "cell_type": "code",
   "execution_count": null,
   "metadata": {},
   "outputs": [],
   "source": [
    "# The RGB array for the true color image\n",
    "RGB = np.dstack([R_rescaled, G_true, B])"
   ]
  },
  {
   "cell_type": "code",
   "execution_count": null,
   "metadata": {},
   "outputs": [],
   "source": [
    "fig = plt.figure(figsize=(15, 15))\n",
    "ax = fig.add_axes((0.05, 0.05, 0.9, 0.9))\n",
    "\n",
    "# True Color: RGB for the true color image\n",
    "ax.imshow(RGB)\n",
    "ax.set_title('GOES-16 RGB True Color', fontweight='bold', loc='left', fontsize=12)\n",
    "ax.set_title(f'{year}{month:02d}{day:02d}{hour:02d}{minute:02d}', loc='right')\n",
    "ax.axis('off')"
   ]
  }
 ],
 "metadata": {
  "kernelspec": {
   "display_name": "my38",
   "language": "python",
   "name": "python3"
  },
  "language_info": {
   "codemirror_mode": {
    "name": "ipython",
    "version": 3
   },
   "file_extension": ".py",
   "mimetype": "text/x-python",
   "name": "python",
   "nbconvert_exporter": "python",
   "pygments_lexer": "ipython3",
   "version": "3.8.15"
  },
  "vscode": {
   "interpreter": {
    "hash": "f221a11a495a978dd5d4b7a823919aa0330af40be8dfacc59b441db5f6460b82"
   }
  }
 },
 "nbformat": 4,
 "nbformat_minor": 2
}
