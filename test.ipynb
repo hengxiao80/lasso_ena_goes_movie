{
 "cells": [
  {
   "cell_type": "code",
   "execution_count": null,
   "metadata": {},
   "outputs": [],
   "source": [
    "from datetime import datetime\n",
    "import xarray as xr\n",
    "# import netCDF4\n",
    "import matplotlib.pyplot as plt\n",
    "%matplotlib inline\n",
    "import cartopy.crs as ccrs\n",
    "# import earthpy.plot as ep\n",
    "import metpy  \n",
    "import numpy as np\n",
    "import s3fs\n",
    "import glob"
   ]
  },
  {
   "cell_type": "code",
   "execution_count": null,
   "metadata": {},
   "outputs": [],
   "source": [
    "hours = np.arange(0, 24, 1)\n",
    "print(hours)"
   ]
  },
  {
   "cell_type": "code",
   "execution_count": null,
   "metadata": {},
   "outputs": [],
   "source": [
    "year, month, day = 2018, 2, 7\n",
    "doy = datetime(year, month, day).timetuple().tm_yday"
   ]
  },
  {
   "cell_type": "code",
   "execution_count": null,
   "metadata": {},
   "outputs": [],
   "source": [
    "hour, minute = 12, 0"
   ]
  },
  {
   "cell_type": "code",
   "execution_count": null,
   "metadata": {},
   "outputs": [],
   "source": [
    "# Use the anonymous credentials to access public data\n",
    "fs = s3fs.S3FileSystem(anon=True)\n",
    "\n",
    "# List contents of GOES-16 bucket.\n",
    "files = fs.ls(f's3://noaa-goes16/ABI-L1b-RadF/{year}/{doy:03d}/{hour:02d}/')\n",
    "\n",
    "files2down = []\n",
    "for file in files:\n",
    "    for c in [\"C01\", \"C02\", \"C03\"]:\n",
    "        if c in str(file):\n",
    "            files2down.append(file)\n",
    "            print(file)\n",
    "            fs.get(file, file.split('/')[-1])"
   ]
  },
  {
   "cell_type": "code",
   "execution_count": null,
   "metadata": {},
   "outputs": [],
   "source": [
    "c01 = xr.open_dataset(glob.glob(f'data/OR*-M3C01_G16_s{year:04d}{doy:03d}{hour:02d}{minute:02d}*.nc')[0])\n",
    "c02 = xr.open_dataset(glob.glob(f'data/OR*-M3C02_G16_s{year:04d}{doy:03d}{hour:02d}{minute:02d}*.nc')[0])\n",
    "c03 = xr.open_dataset(glob.glob(f'data/OR*-M3C03_G16_s{year:04d}{doy:03d}{hour:02d}{minute:02d}*.nc')[0])"
   ]
  },
  {
   "cell_type": "code",
   "execution_count": null,
   "metadata": {},
   "outputs": [],
   "source": [
    "# min_lat_idx =\n",
    "# max_lat_idx =\n",
    "# min_lon_idx =\n",
    "# max_lon_idx =\n",
    "R = c02['Rad'].data[1128*2:2537*2, 8000*2:10000*2]\n",
    "G = c03['Rad'].data[1128:2537, 8000:10000]\n",
    "B = c01['Rad'].data[1128:2537, 8000:10000]"
   ]
  },
  {
   "cell_type": "code",
   "execution_count": null,
   "metadata": {},
   "outputs": [],
   "source": [
    "print(B.shape)"
   ]
  },
  {
   "cell_type": "code",
   "execution_count": null,
   "metadata": {},
   "outputs": [],
   "source": [
    "dat = c01.metpy.parse_cf('Rad')\n",
    "goes = dat.metpy.cartopy_crs\n",
    "# x = dat.x\n",
    "# y = dat.y\n",
    "x = dat.x[8000:10000]\n",
    "y = dat.y[1128:2537]"
   ]
  },
  {
   "cell_type": "code",
   "execution_count": null,
   "metadata": {},
   "outputs": [],
   "source": [
    "# Print the kappa coefficients for each band\n",
    "kappa_B = c01['kappa0'].data\n",
    "kappa_R = c02['kappa0'].data\n",
    "kappa_G = c03['kappa0'].data\n",
    "\n",
    "print('Band 1 kappa coefficient = ', kappa_B)\n",
    "print('Band 2 kappa coefficient = ', kappa_R)\n",
    "print('Band 3 kappa coefficient = ', kappa_G)"
   ]
  },
  {
   "cell_type": "code",
   "execution_count": null,
   "metadata": {},
   "outputs": [],
   "source": [
    "#To convert radiance to reflectance, use formula:\n",
    "#reflectance (ρf(υ)) = kappa factor(κ) * radiance (L(ν))\n",
    "#Source: GOES-R Series Product Definition and User Guide (PUG) Volume 3, Revision 2.2, pages 27-28\n",
    "R_ref = kappa_R * R\n",
    "G_ref = kappa_G * G  \n",
    "B_ref = kappa_B * B "
   ]
  },
  {
   "cell_type": "code",
   "execution_count": null,
   "metadata": {},
   "outputs": [],
   "source": [
    "# Apply range limits for each channel. Reflectance values must be between 0 and 1.\n",
    "R_ref = np.clip(R_ref, 0, 1)\n",
    "G_ref = np.clip(G_ref, 0, 1)\n",
    "B_ref = np.clip(B_ref, 0, 1)"
   ]
  },
  {
   "cell_type": "code",
   "execution_count": null,
   "metadata": {},
   "outputs": [],
   "source": [
    "# Apply a gamma correction to the image to correct ABI detector brightness\n",
    "gamma = 2.2\n",
    "R = np.power(R_ref, 1/gamma)\n",
    "G = np.power(G_ref, 1/gamma)\n",
    "B = np.power(B_ref, 1/gamma)"
   ]
  },
  {
   "cell_type": "code",
   "execution_count": null,
   "metadata": {},
   "outputs": [],
   "source": [
    "print(R.shape)\n",
    "print(G.shape)\n",
    "print(B.shape)"
   ]
  },
  {
   "cell_type": "code",
   "execution_count": null,
   "metadata": {},
   "outputs": [],
   "source": [
    "# Define the rebin function that will be used to resample the band resolution\n",
    "# Rebin function from https://stackoverflow.com/questions/8090229/resize-with-averaging-or-rebin-a-numpy-2d-array\n",
    "def rebin(a, shape):\n",
    "    sh = shape[0],a.shape[0]//shape[0],shape[1],a.shape[1]//shape[1]\n",
    "    return a.reshape(sh).mean(-1).mean(1)"
   ]
  },
  {
   "cell_type": "code",
   "execution_count": null,
   "metadata": {},
   "outputs": [],
   "source": [
    "#Resample the Red Band resolution\n",
    "R_rescaled = rebin(R, G.shape) "
   ]
  },
  {
   "cell_type": "code",
   "execution_count": null,
   "metadata": {},
   "outputs": [],
   "source": [
    "print(R_rescaled.shape)\n",
    "print(G.shape)\n",
    "print(B.shape)"
   ]
  },
  {
   "cell_type": "code",
   "execution_count": null,
   "metadata": {},
   "outputs": [],
   "source": [
    "# GOES-R Series satellites do not have a channel in the visible green range. Band 3 is a NIR channel typically used to monitor vegetation.\n",
    "# Calculate the \"True\" Green Band to serve as a green proxy for the RGB True Color image, using a fractional combination.\n",
    "# Source: \"Generation of GOES‐16 True Color Imagery without a Green Band\" - https://agupubs.onlinelibrary.wiley.com/doi/full/10.1029/2018EA000379\n",
    "G_true = 0.45 * R_rescaled + 0.1 * G + 0.45 * B\n",
    "G_true = np.clip(G_true, 0, 1)  # Apply band limits again, just in case."
   ]
  },
  {
   "cell_type": "code",
   "execution_count": null,
   "metadata": {},
   "outputs": [],
   "source": [
    "# The RGB array for the true color image\n",
    "RGB = np.dstack([R_rescaled, G_true, B])"
   ]
  },
  {
   "cell_type": "code",
   "execution_count": null,
   "metadata": {},
   "outputs": [],
   "source": [
    "del G, R "
   ]
  },
  {
   "cell_type": "code",
   "execution_count": null,
   "metadata": {},
   "outputs": [],
   "source": [
    "fig = plt.figure(figsize=(15, 12))\n",
    "\n",
    "pc = ccrs.PlateCarree()\n",
    "\n",
    "ax = fig.add_subplot(1, 1, 1, projection=pc)\n",
    "ax.set_extent([-33, -23, 34, 44], crs=pc)\n",
    "\n",
    "# Add the RGB image to the figure. The data is in the same projection as the\n",
    "# axis we just created.\n",
    "ax.imshow(RGB, origin='upper', extent=(x.min(), x.max(), y.min(), y.max()), transform=goes)\n",
    "ax.plot(-28.0, 39.0, marker='.')\n",
    "\n",
    "# Add Coastlines and States\n",
    "# ax.coastlines(resolution='50m', color='green', linewidth=0.25)\n",
    "# ax.add_feature(ccrs.cartopy.feature.STATES, linewidth=0.25, color='green')\n",
    "\n",
    "ax.set_title('GOES-16 True Color', fontweight='bold', loc='left', fontsize=12)\n",
    "ax.set_title(f'{year}{month:02d}{day:02d}{hour:02d}{minute:02d}', loc='right')\n",
    "\n",
    "plt.show()"
   ]
  }
 ],
 "metadata": {
  "kernelspec": {
   "display_name": "my38",
   "language": "python",
   "name": "python3"
  },
  "language_info": {
   "codemirror_mode": {
    "name": "ipython",
    "version": 3
   },
   "file_extension": ".py",
   "mimetype": "text/x-python",
   "name": "python",
   "nbconvert_exporter": "python",
   "pygments_lexer": "ipython3",
   "version": "3.8.15"
  },
  "vscode": {
   "interpreter": {
    "hash": "f221a11a495a978dd5d4b7a823919aa0330af40be8dfacc59b441db5f6460b82"
   }
  }
 },
 "nbformat": 4,
 "nbformat_minor": 2
}
